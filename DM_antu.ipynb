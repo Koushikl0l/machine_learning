{
  "nbformat": 4,
  "nbformat_minor": 0,
  "metadata": {
    "colab": {
      "name": "DM_antu.ipynb",
      "provenance": [],
      "include_colab_link": true
    },
    "kernelspec": {
      "name": "python3",
      "display_name": "Python 3"
    }
  },
  "cells": [
    {
      "cell_type": "markdown",
      "metadata": {
        "id": "view-in-github",
        "colab_type": "text"
      },
      "source": [
        "<a href=\"https://colab.research.google.com/github/koushik1234/machine_learning/blob/master/DM_antu.ipynb\" target=\"_parent\"><img src=\"https://colab.research.google.com/assets/colab-badge.svg\" alt=\"Open In Colab\"/></a>"
      ]
    },
    {
      "cell_type": "code",
      "metadata": {
        "id": "1EIHZHA2Olza",
        "colab_type": "code",
        "colab": {}
      },
      "source": [
        "#load packages\n",
        "from keras.datasets import imdb\n",
        "from keras.models import Sequential\n",
        "from keras.layers import Dense\n",
        "from keras.layers import Flatten\n",
        "from keras.layers.convolutional import Conv1D\n",
        "from keras.layers.convolutional import MaxPooling1D\n",
        "from keras.layers.embeddings import Embedding\n",
        "from keras.preprocessing import sequence\n",
        "from keras.callbacks import EarlyStopping\n",
        "from keras.layers import Dropout\n",
        "from sklearn import preprocessing\n",
        "from matplotlib import pyplot as plt\n",
        "plt.style.use('dark_background')\n",
        "from keras.models import load_model\n",
        "import numpy as np\n",
        "import warnings"
      ],
      "execution_count": 0,
      "outputs": []
    },
    {
      "cell_type": "code",
      "metadata": {
        "id": "QdjPRloYOw38",
        "colab_type": "code",
        "colab": {}
      },
      "source": [
        "warnings.filterwarnings('ignore')\n",
        "\n",
        "# load the dataset but only keep the top n words, zero the rest\n",
        "top_words = 5000\n",
        "(X_train, y_train), (X_test, y_test) = imdb.load_data(num_words=top_words)\n",
        "# pad dataset to a maximum review length in words\n",
        "max_words = 500\n",
        "X_train = sequence.pad_sequences(X_train, maxlen=max_words)\n",
        "X_test = sequence.pad_sequences(X_test, maxlen=max_words)"
      ],
      "execution_count": 0,
      "outputs": []
    },
    {
      "cell_type": "code",
      "metadata": {
        "id": "JyYA2PRbPFzj",
        "colab_type": "code",
        "colab": {
          "base_uri": "https://localhost:8080/",
          "height": 50
        },
        "outputId": "f0a95f1e-c801-422a-caac-7459a8304a22"
      },
      "source": [
        "# summarize size\n",
        "print(\"Training data: \")\n",
        "print(X.shape,y.shape)"
      ],
      "execution_count": 61,
      "outputs": [
        {
          "output_type": "stream",
          "text": [
            "Training data: \n",
            "(50000,) (50000,)\n"
          ],
          "name": "stdout"
        }
      ]
    },
    {
      "cell_type": "code",
      "metadata": {
        "id": "VZas9O0XPoCb",
        "colab_type": "code",
        "colab": {
          "base_uri": "https://localhost:8080/",
          "height": 50
        },
        "outputId": "87f74b39-3b89-44b3-cd8d-01ae20e6e91c"
      },
      "source": [
        "#Number of classes\n",
        "print(\"Classes we have: \")\n",
        "print(np.unique(y))"
      ],
      "execution_count": 62,
      "outputs": [
        {
          "output_type": "stream",
          "text": [
            "Classes we have: \n",
            "[0 1]\n"
          ],
          "name": "stdout"
        }
      ]
    },
    {
      "cell_type": "code",
      "metadata": {
        "id": "lctW6_TgPzuT",
        "colab_type": "code",
        "colab": {
          "base_uri": "https://localhost:8080/",
          "height": 765
        },
        "outputId": "2027631e-7150-4b1e-90e8-de68bda386f3"
      },
      "source": [
        "X_train[:1]"
      ],
      "execution_count": 64,
      "outputs": [
        {
          "output_type": "execute_result",
          "data": {
            "text/plain": [
              "array([[   0,    0,    0,    0,    0,    0,    0,    0,    0,    0,    0,\n",
              "           0,    0,    0,    0,    0,    0,    0,    0,    0,    0,    0,\n",
              "           0,    0,    0,    0,    0,    0,    0,    0,    0,    0,    0,\n",
              "           0,    0,    0,    0,    0,    0,    0,    0,    0,    0,    0,\n",
              "           0,    0,    0,    0,    0,    0,    0,    0,    0,    0,    0,\n",
              "           0,    0,    0,    0,    0,    0,    0,    0,    0,    0,    0,\n",
              "           0,    0,    0,    0,    0,    0,    0,    0,    0,    0,    0,\n",
              "           0,    0,    0,    0,    0,    0,    0,    0,    0,    0,    0,\n",
              "           0,    0,    0,    0,    0,    0,    0,    0,    0,    0,    0,\n",
              "           0,    0,    0,    0,    0,    0,    0,    0,    0,    0,    0,\n",
              "           0,    0,    0,    0,    0,    0,    0,    0,    0,    0,    0,\n",
              "           0,    0,    0,    0,    0,    0,    0,    0,    0,    0,    0,\n",
              "           0,    0,    0,    0,    0,    0,    0,    0,    0,    0,    0,\n",
              "           0,    0,    0,    0,    0,    0,    0,    0,    0,    0,    0,\n",
              "           0,    0,    0,    0,    0,    0,    0,    0,    0,    0,    0,\n",
              "           0,    0,    0,    0,    0,    0,    0,    0,    0,    0,    0,\n",
              "           0,    0,    0,    0,    0,    0,    0,    0,    0,    0,    0,\n",
              "           0,    0,    0,    0,    0,    0,    0,    0,    0,    0,    0,\n",
              "           0,    0,    0,    0,    0,    0,    0,    0,    0,    0,    0,\n",
              "           0,    0,    0,    0,    0,    0,    0,    0,    0,    0,    0,\n",
              "           0,    0,    0,    0,    0,    0,    0,    0,    0,    0,    0,\n",
              "           0,    0,    0,    0,    0,    0,    0,    0,    0,    0,    0,\n",
              "           0,    0,    0,    0,    0,    0,    0,    0,    0,    0,    0,\n",
              "           0,    0,    0,    0,    0,    0,    0,    0,    0,    0,    0,\n",
              "           0,    0,    0,    0,    0,    0,    0,    0,    0,    0,    0,\n",
              "           0,    0,    0,    0,    0,    0,    0,    1,   14,   22,   16,\n",
              "          43,  530,  973, 1622, 1385,   65,  458, 4468,   66, 3941,    4,\n",
              "         173,   36,  256,    5,   25,  100,   43,  838,  112,   50,  670,\n",
              "           2,    9,   35,  480,  284,    5,  150,    4,  172,  112,  167,\n",
              "           2,  336,  385,   39,    4,  172, 4536, 1111,   17,  546,   38,\n",
              "          13,  447,    4,  192,   50,   16,    6,  147, 2025,   19,   14,\n",
              "          22,    4, 1920, 4613,  469,    4,   22,   71,   87,   12,   16,\n",
              "          43,  530,   38,   76,   15,   13, 1247,    4,   22,   17,  515,\n",
              "          17,   12,   16,  626,   18,    2,    5,   62,  386,   12,    8,\n",
              "         316,    8,  106,    5,    4, 2223,    2,   16,  480,   66, 3785,\n",
              "          33,    4,  130,   12,   16,   38,  619,    5,   25,  124,   51,\n",
              "          36,  135,   48,   25, 1415,   33,    6,   22,   12,  215,   28,\n",
              "          77,   52,    5,   14,  407,   16,   82,    2,    8,    4,  107,\n",
              "         117,    2,   15,  256,    4,    2,    7, 3766,    5,  723,   36,\n",
              "          71,   43,  530,  476,   26,  400,  317,   46,    7,    4,    2,\n",
              "        1029,   13,  104,   88,    4,  381,   15,  297,   98,   32, 2071,\n",
              "          56,   26,  141,    6,  194,    2,   18,    4,  226,   22,   21,\n",
              "         134,  476,   26,  480,    5,  144,   30,    2,   18,   51,   36,\n",
              "          28,  224,   92,   25,  104,    4,  226,   65,   16,   38, 1334,\n",
              "          88,   12,   16,  283,    5,   16, 4472,  113,  103,   32,   15,\n",
              "          16,    2,   19,  178,   32]], dtype=int32)"
            ]
          },
          "metadata": {
            "tags": []
          },
          "execution_count": 64
        }
      ]
    },
    {
      "cell_type": "code",
      "metadata": {
        "id": "vxBLXwIXwPED",
        "colab_type": "code",
        "colab": {}
      },
      "source": [
        "y_train[:10]"
      ],
      "execution_count": 0,
      "outputs": []
    },
    {
      "cell_type": "code",
      "metadata": {
        "id": "JQGFprrLRjDy",
        "colab_type": "code",
        "colab": {}
      },
      "source": [
        "#normalize the data\n",
        "# normalize the data attributes\n",
        "#X_train = preprocessing.normalize(X_train)\n",
        "#X_test= preprocessing.normalize(X_test)"
      ],
      "execution_count": 0,
      "outputs": []
    },
    {
      "cell_type": "code",
      "metadata": {
        "id": "ek_CpPbrVjrH",
        "colab_type": "code",
        "colab": {}
      },
      "source": [
        "## create the model\n",
        "model = Sequential()\n",
        "model.add(Embedding(top_words, 32, input_length=max_words))\n",
        "#we have used 1D conv with relu activation where padding will be the same --appending 0 \n",
        "model.add(Conv1D(32, 3, padding='same', activation='relu'))\n",
        "model.add(MaxPooling1D())\n",
        "#Block 2\n",
        "model.add(Conv1D(64, 3, padding='same', activation='relu'))\n",
        "model.add(MaxPooling1D())\n",
        "#Block 3\n",
        "model.add(Conv1D(128, 3, padding='same', activation='relu'))\n",
        "model.add(MaxPooling1D())\n",
        "model.add(Flatten())\n",
        "#add desnse layer1\n",
        "model.add(Dense(256, activation='relu'))\n",
        "model.add(Dropout(.5))\n",
        "#add desnse layer2\n",
        "model.add(Dense(256, activation='relu'))\n",
        "model.add(Dropout(.5))\n",
        "#add desnse layer 3\n",
        "model.add(Dense(512, activation='relu'))\n",
        "model.add(Dropout(.5))\n",
        "model.add(Dense(1, activation='sigmoid'))"
      ],
      "execution_count": 0,
      "outputs": []
    },
    {
      "cell_type": "code",
      "metadata": {
        "id": "zVi54K0qh9Dd",
        "colab_type": "code",
        "colab": {
          "base_uri": "https://localhost:8080/",
          "height": 635
        },
        "outputId": "53f084a4-53e6-449e-a4e8-9a8bbdea97d1"
      },
      "source": [
        "#compile the model\n",
        "model.compile(loss='binary_crossentropy', optimizer='adam', metrics=['accuracy'])\n",
        "model.summary()"
      ],
      "execution_count": 66,
      "outputs": [
        {
          "output_type": "stream",
          "text": [
            "Model: \"sequential_8\"\n",
            "_________________________________________________________________\n",
            "Layer (type)                 Output Shape              Param #   \n",
            "=================================================================\n",
            "embedding_8 (Embedding)      (None, 500, 32)           160000    \n",
            "_________________________________________________________________\n",
            "conv1d_16 (Conv1D)           (None, 500, 32)           3104      \n",
            "_________________________________________________________________\n",
            "max_pooling1d_16 (MaxPooling (None, 250, 32)           0         \n",
            "_________________________________________________________________\n",
            "conv1d_17 (Conv1D)           (None, 250, 64)           6208      \n",
            "_________________________________________________________________\n",
            "max_pooling1d_17 (MaxPooling (None, 125, 64)           0         \n",
            "_________________________________________________________________\n",
            "conv1d_18 (Conv1D)           (None, 125, 128)          24704     \n",
            "_________________________________________________________________\n",
            "max_pooling1d_18 (MaxPooling (None, 62, 128)           0         \n",
            "_________________________________________________________________\n",
            "flatten_8 (Flatten)          (None, 7936)              0         \n",
            "_________________________________________________________________\n",
            "dense_25 (Dense)             (None, 256)               2031872   \n",
            "_________________________________________________________________\n",
            "dropout_10 (Dropout)         (None, 256)               0         \n",
            "_________________________________________________________________\n",
            "dense_26 (Dense)             (None, 256)               65792     \n",
            "_________________________________________________________________\n",
            "dropout_11 (Dropout)         (None, 256)               0         \n",
            "_________________________________________________________________\n",
            "dense_27 (Dense)             (None, 512)               131584    \n",
            "_________________________________________________________________\n",
            "dropout_12 (Dropout)         (None, 512)               0         \n",
            "_________________________________________________________________\n",
            "dense_28 (Dense)             (None, 1)                 513       \n",
            "=================================================================\n",
            "Total params: 2,423,777\n",
            "Trainable params: 2,423,777\n",
            "Non-trainable params: 0\n",
            "_________________________________________________________________\n"
          ],
          "name": "stdout"
        }
      ]
    },
    {
      "cell_type": "code",
      "metadata": {
        "id": "zn6-3Ym_WgGI",
        "colab_type": "code",
        "colab": {
          "base_uri": "https://localhost:8080/",
          "height": 602
        },
        "outputId": "922f1588-0830-48c4-b8af-2004726cc31b"
      },
      "source": [
        "# Fit the model\n",
        "epochs=20\n",
        "batch=128\n",
        "es = EarlyStopping(monitor='val_loss', mode='min', verbose=1, patience=15)\n",
        "his=model.fit(\n",
        "    X_train,\n",
        "    y_train,\n",
        "    epochs=epochs,\n",
        "    batch_size=batch,\n",
        "    validation_data=(X_test, y_test),\n",
        "    verbose = 1,callbacks=[es],\n",
        "    shuffle=True)\n"
      ],
      "execution_count": 67,
      "outputs": [
        {
          "output_type": "stream",
          "text": [
            "Train on 25000 samples, validate on 25000 samples\n",
            "Epoch 1/20\n",
            "25000/25000 [==============================] - 67s 3ms/step - loss: 0.6938 - acc: 0.5018 - val_loss: 0.6932 - val_acc: 0.5000\n",
            "Epoch 2/20\n",
            "25000/25000 [==============================] - 67s 3ms/step - loss: 0.4703 - acc: 0.7467 - val_loss: 0.2795 - val_acc: 0.8843\n",
            "Epoch 3/20\n",
            "25000/25000 [==============================] - 69s 3ms/step - loss: 0.2332 - acc: 0.9113 - val_loss: 0.2818 - val_acc: 0.8843\n",
            "Epoch 4/20\n",
            "25000/25000 [==============================] - 67s 3ms/step - loss: 0.1686 - acc: 0.9390 - val_loss: 0.2979 - val_acc: 0.8812\n",
            "Epoch 5/20\n",
            "25000/25000 [==============================] - 68s 3ms/step - loss: 0.1170 - acc: 0.9615 - val_loss: 0.3526 - val_acc: 0.8805\n",
            "Epoch 6/20\n",
            "25000/25000 [==============================] - 66s 3ms/step - loss: 0.0793 - acc: 0.9741 - val_loss: 0.3724 - val_acc: 0.8861\n",
            "Epoch 7/20\n",
            "25000/25000 [==============================] - 68s 3ms/step - loss: 0.0533 - acc: 0.9826 - val_loss: 0.4597 - val_acc: 0.8828\n",
            "Epoch 8/20\n",
            "25000/25000 [==============================] - 71s 3ms/step - loss: 0.0377 - acc: 0.9876 - val_loss: 0.5123 - val_acc: 0.8849\n",
            "Epoch 9/20\n",
            "25000/25000 [==============================] - 67s 3ms/step - loss: 0.0232 - acc: 0.9922 - val_loss: 0.5676 - val_acc: 0.8786\n",
            "Epoch 10/20\n",
            "25000/25000 [==============================] - 67s 3ms/step - loss: 0.0275 - acc: 0.9908 - val_loss: 0.6884 - val_acc: 0.8848\n",
            "Epoch 11/20\n",
            "25000/25000 [==============================] - 63s 3ms/step - loss: 0.0133 - acc: 0.9955 - val_loss: 0.8110 - val_acc: 0.8773\n",
            "Epoch 12/20\n",
            "25000/25000 [==============================] - 64s 3ms/step - loss: 0.0147 - acc: 0.9951 - val_loss: 0.7239 - val_acc: 0.8792\n",
            "Epoch 13/20\n",
            "25000/25000 [==============================] - 68s 3ms/step - loss: 0.0102 - acc: 0.9972 - val_loss: 0.7151 - val_acc: 0.8790\n",
            "Epoch 14/20\n",
            "25000/25000 [==============================] - 68s 3ms/step - loss: 0.0102 - acc: 0.9970 - val_loss: 0.7775 - val_acc: 0.8763\n",
            "Epoch 15/20\n",
            "25000/25000 [==============================] - 69s 3ms/step - loss: 0.0111 - acc: 0.9965 - val_loss: 0.7852 - val_acc: 0.8818\n",
            "Epoch 16/20\n",
            "25000/25000 [==============================] - 68s 3ms/step - loss: 0.0105 - acc: 0.9969 - val_loss: 1.0403 - val_acc: 0.8576\n",
            "Epoch 17/20\n",
            "25000/25000 [==============================] - 69s 3ms/step - loss: 0.0126 - acc: 0.9957 - val_loss: 0.8690 - val_acc: 0.8787\n",
            "Epoch 00017: early stopping\n"
          ],
          "name": "stdout"
        }
      ]
    },
    {
      "cell_type": "code",
      "metadata": {
        "id": "qkjOtytqXFKA",
        "colab_type": "code",
        "colab": {
          "base_uri": "https://localhost:8080/",
          "height": 295
        },
        "outputId": "c6e207ec-7d02-4d92-cb92-9621df0deb2f"
      },
      "source": [
        "loss = his.history['loss']\n",
        "val_loss = his.history['val_loss']\n",
        "epochs = range(1, len(loss) + 1)\n",
        "plt.plot(epochs, loss, 'y', label='Training loss')\n",
        "plt.plot(epochs, val_loss, 'r', label='Validation loss')\n",
        "plt.title('Training and validation loss')\n",
        "plt.xlabel('Epochs')\n",
        "plt.ylabel('Loss')\n",
        "plt.legend()\n",
        "plt.show()"
      ],
      "execution_count": 68,
      "outputs": [
        {
          "output_type": "display_data",
          "data": {
            "image/png": "[encoded data removed]",
            "text/plain": [
              "<Figure size 432x288 with 1 Axes>"
            ]
          },
          "metadata": {
            "tags": []
          }
        }
      ]
    },
    {
      "cell_type": "code",
      "metadata": {
        "id": "f3sU2SextDu-",
        "colab_type": "code",
        "colab": {
          "base_uri": "https://localhost:8080/",
          "height": 295
        },
        "outputId": "2b0c39bd-a886-43fb-9673-232253c24b56"
      },
      "source": [
        "acc = his.history['acc']\n",
        "val_acc = his.history['val_acc']\n",
        "plt.plot(epochs, acc, 'y', label='Training acc')\n",
        "plt.plot(epochs, val_acc, 'r', label='Validation acc')\n",
        "plt.title('Training and validation accuracy')\n",
        "plt.xlabel('Epochs')\n",
        "plt.ylabel('Accuracy')\n",
        "plt.legend()\n",
        "plt.show()"
      ],
      "execution_count": 69,
      "outputs": [
        {
          "output_type": "display_data",
          "data": {
            "image/png": "[encoded data removed]",
            "text/plain": [
              "<Figure size 432x288 with 1 Axes>"
            ]
          },
          "metadata": {
            "tags": []
          }
        }
      ]
    },
    {
      "cell_type": "code",
      "metadata": {
        "id": "OBGSW7u-td_u",
        "colab_type": "code",
        "colab": {
          "base_uri": "https://localhost:8080/",
          "height": 66
        },
        "outputId": "060547b7-4f52-4598-bffe-de49df17879b"
      },
      "source": [
        "#save model\n",
        "model.save(\"model.h5\")\n",
        "# load model\n",
        "sentiment_analysis = load_model('model.h5')\n",
        "# evaluate the model\n",
        "_, train_acc = sentiment_analysis.evaluate(X_train,y_train, verbose=1)\n",
        "_, test_acc = sentiment_analysis.evaluate(X_test,y_test, verbose=1)\n",
        "print('Train: %.3f, Test: %.3f' % (train_acc, test_acc))"
      ],
      "execution_count": 71,
      "outputs": [
        {
          "output_type": "stream",
          "text": [
            "25000/25000 [==============================] - 17s 670us/step\n",
            "25000/25000 [==============================] - 16s 636us/step\n",
            "Train: 0.999, Test: 0.879\n"
          ],
          "name": "stdout"
        }
      ]
    },
    {
      "cell_type": "markdown",
      "metadata": {
        "id": "eQV3NipAzhTn",
        "colab_type": "text"
      },
      "source": [
        "Dropout can help a model generalize by randomly setting the output for a given neuron to 0. In setting the output to 0, the cost function becomes more sensitive to neighbouring neurons changing the way the weights will be updated during the process of backpropagation.bold text"
      ]
    },
    {
      "cell_type": "code",
      "metadata": {
        "id": "JZpr1bwkzjdl",
        "colab_type": "code",
        "colab": {
          "base_uri": "https://localhost:8080/",
          "height": 118
        },
        "outputId": "6f2de8e6-3ec0-4be3-dee0-ff19279a2e55"
      },
      "source": [
        "from google.colab import drive\n",
        "drive.mount('/content/drive')"
      ],
      "execution_count": 75,
      "outputs": [
        {
          "output_type": "stream",
          "text": [
            "Go to this URL in a browser: https://accounts.google.com/o/oauth2/auth?client_id=947318989803-6bn6qk8qdgf4n4g3pfee6491hc0brc4i.apps.googleusercontent.com&redirect_uri=urn%3aietf%3awg%3aoauth%3a2.0%3aoob&response_type=code&scope=email%20https%3a%2f%2fwww.googleapis.com%2fauth%2fdocs.test%20https%3a%2f%2fwww.googleapis.com%2fauth%2fdrive%20https%3a%2f%2fwww.googleapis.com%2fauth%2fdrive.photos.readonly%20https%3a%2f%2fwww.googleapis.com%2fauth%2fpeopleapi.readonly\n",
            "\n",
            "Enter your authorization code:\n",
            "··········\n",
            "Mounted at /content/drive\n"
          ],
          "name": "stdout"
        }
      ]
    },
    {
      "cell_type": "code",
      "metadata": {
        "id": "u2mXCuiQuY1O",
        "colab_type": "code",
        "colab": {}
      },
      "source": [
        "from google.colab import files\n",
        "downloaded=files.download(\"model.h5\")"
      ],
      "execution_count": 0,
      "outputs": []
    },
    {
      "cell_type": "code",
      "metadata": {
        "id": "nxS3CORQ3sMF",
        "colab_type": "code",
        "colab": {}
      },
      "source": [
        ""
      ],
      "execution_count": 0,
      "outputs": []
    }
  ]
}