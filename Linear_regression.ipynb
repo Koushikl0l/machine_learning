{
 "cells": [
  {
   "cell_type": "code",
   "execution_count": 43,
   "metadata": {},
   "outputs": [],
   "source": [
    "import numpy as np\n",
    "import pandas as pd"
   ]
  },
  {
   "cell_type": "code",
   "execution_count": 57,
   "metadata": {},
   "outputs": [],
   "source": [
    "data = pd.read_csv(\"data.csv\")\n",
    "learning_rate=0.0001\n",
    "epoc=1000\n",
    "col1=data.columns[0]\n",
    "col2=data.columns[1]"
   ]
  },
  {
   "cell_type": "code",
   "execution_count": 62,
   "metadata": {},
   "outputs": [],
   "source": [
    "def compute_error(b,m):\n",
    "    T_err=0\n",
    "    for i in range(0,data.shape[0]):\n",
    "        x=data[col1][i]\n",
    "        y=data[col2][i]\n",
    "        T_err+=(y-(m*x+b))**2\n",
    "    return T_err/data.shape[0]\n",
    "\n",
    "def gradient_descent(b,m):\n",
    "    B=b\n",
    "    M=m\n",
    "    for i in range(epoc):\n",
    "        B,M=run_gradient(B,M)\n",
    "    return [B,M]\n",
    "\n",
    "def run_gradient(b,m):\n",
    "    b_grad=0\n",
    "    m_grad=0\n",
    "    for i in range(0,data.shape[0]):\n",
    "        x=data[col1][i]\n",
    "        y=data[col2][i]\n",
    "        b_grad+=-(2/data.shape[0]) * (y - ((m*x) + b))\n",
    "        m_grad+= -(2/data.shape[0]) * x * (y - ((m* x) + b))\n",
    "    \n",
    "    updated_b= b- (learning_rate*b_grad)\n",
    "    updated_m= m- (learning_rate*m_grad)\n",
    "    \n",
    "    return [updated_b,updated_m]\n",
    "\n",
    "        \n",
    "def start():\n",
    "    b=0 #initial y-intercept\n",
    "    m=0 #initial slope\n",
    "    print(\"initial b={0} m={1} error rate:\".format(b,m)+\"\"+str(compute_error(b,m))) #initial error\n",
    "    [b,m]=gradient_descent(b,m)\n",
    "    print(\"After {0} epoc b={1} m={2} error rate:\".format(epoc,b,m)+\"\"+str(compute_error(b,m)))\n",
    "\n",
    "  "
   ]
  },
  {
   "cell_type": "code",
   "execution_count": 63,
   "metadata": {},
   "outputs": [
    {
     "name": "stdout",
     "output_type": "stream",
     "text": [
      "initial b=0 m=0 error rate:5565.107834490552\n",
      "After 1000 epoc b=0.08893651996682016 m=1.4777440851889796 error rate:112.61481010123588\n"
     ]
    }
   ],
   "source": [
    "start()"
   ]
  },
  {
   "cell_type": "code",
   "execution_count": null,
   "metadata": {},
   "outputs": [],
   "source": []
  }
 ],
 "metadata": {
  "kernelspec": {
   "display_name": "Python 3",
   "language": "python",
   "name": "python3"
  },
  "language_info": {
   "codemirror_mode": {
    "name": "ipython",
    "version": 3
   },
   "file_extension": ".py",
   "mimetype": "text/x-python",
   "name": "python",
   "nbconvert_exporter": "python",
   "pygments_lexer": "ipython3",
   "version": "3.7.1"
  }
 },
 "nbformat": 4,
 "nbformat_minor": 2
}
